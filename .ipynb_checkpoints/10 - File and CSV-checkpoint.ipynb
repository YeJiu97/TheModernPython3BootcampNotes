{
 "cells": [
  {
   "cell_type": "markdown",
   "id": "a7b9da07-1a08-40da-beee-14d7b6015dff",
   "metadata": {},
   "source": [
    "## File IO"
   ]
  },
  {
   "cell_type": "code",
   "execution_count": 1,
   "id": "5c3b1490-7ff1-4040-aa4b-cd9512dcbfa5",
   "metadata": {},
   "outputs": [],
   "source": [
    "f = open(\"story.txt\")"
   ]
  },
  {
   "cell_type": "code",
   "execution_count": 2,
   "id": "3a6170f0-c354-432f-817b-33a798192078",
   "metadata": {},
   "outputs": [
    {
     "data": {
      "text/plain": [
       "<_io.TextIOWrapper name='story.txt' mode='r' encoding='cp936'>"
      ]
     },
     "execution_count": 2,
     "metadata": {},
     "output_type": "execute_result"
    }
   ],
   "source": [
    "f"
   ]
  },
  {
   "cell_type": "code",
   "execution_count": 3,
   "id": "ed11fb89-9920-4578-9fd1-c9b8a7d8ea4a",
   "metadata": {},
   "outputs": [
    {
     "name": "stdout",
     "output_type": "stream",
     "text": [
      "<_io.TextIOWrapper name='story.txt' mode='r' encoding='cp936'>\n"
     ]
    }
   ],
   "source": [
    "print(f)"
   ]
  },
  {
   "cell_type": "code",
   "execution_count": 4,
   "id": "eb9348a4-68c9-4664-bdea-4076c2cd4b2f",
   "metadata": {},
   "outputs": [
    {
     "data": {
      "text/plain": [
       "'It is a short story that be used to test by using Python.'"
      ]
     },
     "execution_count": 4,
     "metadata": {},
     "output_type": "execute_result"
    }
   ],
   "source": [
    "# 通过使用read()来读取内容\n",
    "f.read()"
   ]
  },
  {
   "cell_type": "code",
   "execution_count": 7,
   "id": "f18a9ed0-6b39-4481-b1da-aab7c1666cb8",
   "metadata": {},
   "outputs": [
    {
     "data": {
      "text/plain": [
       "'It is a short story that be used to test by using Python.'"
      ]
     },
     "execution_count": 7,
     "metadata": {},
     "output_type": "execute_result"
    }
   ],
   "source": [
    "# readline()函数\n",
    "f.readline()"
   ]
  },
  {
   "cell_type": "code",
   "execution_count": 9,
   "id": "caf33d15-44f4-4262-bb77-e078b20e011c",
   "metadata": {},
   "outputs": [
    {
     "data": {
      "text/plain": [
       "True"
      ]
     },
     "execution_count": 9,
     "metadata": {},
     "output_type": "execute_result"
    }
   ],
   "source": [
    "# 不适用with\n",
    "file = open(\"story.txt\")\n",
    "file.read()\n",
    "file.close()\n",
    "\n",
    "file.closed  # 关闭，返回True"
   ]
  },
  {
   "cell_type": "code",
   "execution_count": 10,
   "id": "2898fc17-34e7-4113-996c-f05b8c90186b",
   "metadata": {},
   "outputs": [
    {
     "data": {
      "text/plain": [
       "True"
      ]
     },
     "execution_count": 10,
     "metadata": {},
     "output_type": "execute_result"
    }
   ],
   "source": [
    "# 使用with来进行\n",
    "with open(\"story.txt\") as file:\n",
    "    file.read()\n",
    "file.closed  # 返回True"
   ]
  },
  {
   "cell_type": "code",
   "execution_count": 14,
   "id": "f013fef8-68e8-41dd-9938-e4439f6b4f52",
   "metadata": {},
   "outputs": [
    {
     "data": {
      "text/plain": [
       "True"
      ]
     },
     "execution_count": 14,
     "metadata": {},
     "output_type": "execute_result"
    }
   ],
   "source": [
    "# 使用write来进行写入\n",
    "with open(\"write_story.txt\", \"w\") as file:\n",
    "    file.write(\"Writing files is great\\n\")\n",
    "    file.write(\"Here is another line of text\\n\")\n",
    "    file.write(\"Closing now, goodbye!\")\n",
    "file.closed"
   ]
  },
  {
   "cell_type": "markdown",
   "id": "66a238e8-a6bd-45e0-a1f3-cd191b575cbc",
   "metadata": {},
   "source": [
    "## CSV"
   ]
  },
  {
   "cell_type": "markdown",
   "id": "517b5e8f-8e52-4184-b386-bb8ef7ff6cac",
   "metadata": {},
   "source": [
    "csv的内容如下所示：\n",
    "```\n",
    "Name,Country,Height (in cm)\n",
    "Ryu,Japan,175\n",
    "Ken,USA,175\n",
    "Chun-Li,China,165\n",
    "Guile,USA,182\n",
    "E. Honda,Japan,185\n",
    "Dhalsim,India,176\n",
    "Blanka,Brazil,192\n",
    "Zangief,Russia,214\n",
    "```\n",
    "CSV的名称为 \"1 - fighters.csv\""
   ]
  },
  {
   "cell_type": "code",
   "execution_count": 17,
   "id": "6e052b2b-0b92-415b-8d5c-c7c07c041a59",
   "metadata": {},
   "outputs": [
    {
     "name": "stdout",
     "output_type": "stream",
     "text": [
      "['Name', 'Country', 'Height (in cm)']\n",
      "['Ryu', 'Japan', '175']\n",
      "['Ken', 'USA', '175']\n",
      "['Chun-Li', 'China', '165']\n",
      "['Guile', 'USA', '182']\n",
      "['E. Honda', 'Japan', '185']\n",
      "['Dhalsim', 'India', '176']\n",
      "['Blanka', 'Brazil', '192']\n",
      "['Zangief', 'Russia', '214']\n"
     ]
    }
   ],
   "source": [
    "# 使用 reader\n",
    "from csv import reader\n",
    "with open (\"1 - fighters.csv\") as file:\n",
    "    csv_reader = reader(file)\n",
    "    for row in csv_reader:\n",
    "        print(row)"
   ]
  },
  {
   "cell_type": "code",
   "execution_count": 18,
   "id": "7e230ab6-b59e-4e5c-a9d8-2a5f72ff953a",
   "metadata": {},
   "outputs": [
    {
     "name": "stdout",
     "output_type": "stream",
     "text": [
      "{'Name': 'Ryu', 'Country': 'Japan', 'Height (in cm)': '175'}\n",
      "{'Name': 'Ken', 'Country': 'USA', 'Height (in cm)': '175'}\n",
      "{'Name': 'Chun-Li', 'Country': 'China', 'Height (in cm)': '165'}\n",
      "{'Name': 'Guile', 'Country': 'USA', 'Height (in cm)': '182'}\n",
      "{'Name': 'E. Honda', 'Country': 'Japan', 'Height (in cm)': '185'}\n",
      "{'Name': 'Dhalsim', 'Country': 'India', 'Height (in cm)': '176'}\n",
      "{'Name': 'Blanka', 'Country': 'Brazil', 'Height (in cm)': '192'}\n",
      "{'Name': 'Zangief', 'Country': 'Russia', 'Height (in cm)': '214'}\n"
     ]
    }
   ],
   "source": [
    "# 使用 DictReader\n",
    "from csv import DictReader\n",
    "with open(\"1 - fighters.csv\") as file:\n",
    "    csv_reader = DictReader(file)\n",
    "    for row in csv_reader:\n",
    "        print(row)"
   ]
  },
  {
   "cell_type": "code",
   "execution_count": 24,
   "id": "1afed3ef-3fbe-4792-b663-ef5a4e4ce3b0",
   "metadata": {},
   "outputs": [
    {
     "name": "stdout",
     "output_type": "stream",
     "text": [
      "Name is from Country\n",
      "Ryu is from Japan\n",
      "Ken is from USA\n",
      "Chun-Li is from China\n",
      "Guile is from USA\n",
      "E. Honda is from Japan\n",
      "Dhalsim is from India\n",
      "Blanka is from Brazil\n",
      "Zangief is from Russia\n"
     ]
    }
   ],
   "source": [
    "from csv import reader\n",
    "with open (\"1 - fighters.csv\") as file:\n",
    "    csv_reader = reader(file)\n",
    "    for fighter in csv_reader:\n",
    "        print(f\"{fighter[0]} is from {fighter[1]}\")\n",
    "        # print(row)"
   ]
  },
  {
   "cell_type": "code",
   "execution_count": 26,
   "id": "368882be-fdd3-41ae-8758-2f6ec42aa71b",
   "metadata": {},
   "outputs": [
    {
     "data": {
      "text/html": [
       "<div>\n",
       "<style scoped>\n",
       "    .dataframe tbody tr th:only-of-type {\n",
       "        vertical-align: middle;\n",
       "    }\n",
       "\n",
       "    .dataframe tbody tr th {\n",
       "        vertical-align: top;\n",
       "    }\n",
       "\n",
       "    .dataframe thead th {\n",
       "        text-align: right;\n",
       "    }\n",
       "</style>\n",
       "<table border=\"1\" class=\"dataframe\">\n",
       "  <thead>\n",
       "    <tr style=\"text-align: right;\">\n",
       "      <th></th>\n",
       "      <th>Name</th>\n",
       "      <th>Country</th>\n",
       "      <th>Height (in cm)</th>\n",
       "    </tr>\n",
       "  </thead>\n",
       "  <tbody>\n",
       "    <tr>\n",
       "      <th>0</th>\n",
       "      <td>Ryu</td>\n",
       "      <td>Japan</td>\n",
       "      <td>175</td>\n",
       "    </tr>\n",
       "    <tr>\n",
       "      <th>1</th>\n",
       "      <td>Ken</td>\n",
       "      <td>USA</td>\n",
       "      <td>175</td>\n",
       "    </tr>\n",
       "    <tr>\n",
       "      <th>2</th>\n",
       "      <td>Chun-Li</td>\n",
       "      <td>China</td>\n",
       "      <td>165</td>\n",
       "    </tr>\n",
       "    <tr>\n",
       "      <th>3</th>\n",
       "      <td>Guile</td>\n",
       "      <td>USA</td>\n",
       "      <td>182</td>\n",
       "    </tr>\n",
       "    <tr>\n",
       "      <th>4</th>\n",
       "      <td>E. Honda</td>\n",
       "      <td>Japan</td>\n",
       "      <td>185</td>\n",
       "    </tr>\n",
       "    <tr>\n",
       "      <th>5</th>\n",
       "      <td>Dhalsim</td>\n",
       "      <td>India</td>\n",
       "      <td>176</td>\n",
       "    </tr>\n",
       "    <tr>\n",
       "      <th>6</th>\n",
       "      <td>Blanka</td>\n",
       "      <td>Brazil</td>\n",
       "      <td>192</td>\n",
       "    </tr>\n",
       "    <tr>\n",
       "      <th>7</th>\n",
       "      <td>Zangief</td>\n",
       "      <td>Russia</td>\n",
       "      <td>214</td>\n",
       "    </tr>\n",
       "  </tbody>\n",
       "</table>\n",
       "</div>"
      ],
      "text/plain": [
       "       Name Country  Height (in cm)\n",
       "0       Ryu   Japan             175\n",
       "1       Ken     USA             175\n",
       "2   Chun-Li   China             165\n",
       "3     Guile     USA             182\n",
       "4  E. Honda   Japan             185\n",
       "5   Dhalsim   India             176\n",
       "6    Blanka  Brazil             192\n",
       "7   Zangief  Russia             214"
      ]
     },
     "execution_count": 26,
     "metadata": {},
     "output_type": "execute_result"
    }
   ],
   "source": [
    "# 使用pandas来进行读取\n",
    "import pandas as pd\n",
    "\n",
    "fighter = pd.read_csv(\"1 - fighters.csv\")\n",
    "fighter"
   ]
  },
  {
   "cell_type": "code",
   "execution_count": 28,
   "id": "26f3df55-d92b-4b38-a85f-aa304181b0e4",
   "metadata": {},
   "outputs": [
    {
     "data": {
      "text/plain": [
       "0         Ryu\n",
       "1         Ken\n",
       "2     Chun-Li\n",
       "3       Guile\n",
       "4    E. Honda\n",
       "5     Dhalsim\n",
       "6      Blanka\n",
       "7     Zangief\n",
       "Name: Name, dtype: object"
      ]
     },
     "execution_count": 28,
     "metadata": {},
     "output_type": "execute_result"
    }
   ],
   "source": [
    "fighter[\"Name\"]"
   ]
  },
  {
   "cell_type": "code",
   "execution_count": 29,
   "id": "aef5e7f8-ba6d-4d7a-876f-ae6ec9942eab",
   "metadata": {},
   "outputs": [
    {
     "data": {
      "text/plain": [
       "0     Japan\n",
       "1       USA\n",
       "2     China\n",
       "3       USA\n",
       "4     Japan\n",
       "5     India\n",
       "6    Brazil\n",
       "7    Russia\n",
       "Name: Country, dtype: object"
      ]
     },
     "execution_count": 29,
     "metadata": {},
     "output_type": "execute_result"
    }
   ],
   "source": [
    "fighter[\"Country\"]"
   ]
  },
  {
   "cell_type": "code",
   "execution_count": 31,
   "id": "1d6e6a8e-f819-4c90-9b41-11377d29623e",
   "metadata": {},
   "outputs": [
    {
     "data": {
      "text/plain": [
       "0    175\n",
       "1    175\n",
       "2    165\n",
       "3    182\n",
       "4    185\n",
       "5    176\n",
       "6    192\n",
       "7    214\n",
       "Name: Height (in cm), dtype: int64"
      ]
     },
     "execution_count": 31,
     "metadata": {},
     "output_type": "execute_result"
    }
   ],
   "source": [
    "fighter[\"Height (in cm)\"]"
   ]
  },
  {
   "cell_type": "code",
   "execution_count": 35,
   "id": "434debf8-10e0-4f39-84d7-8d7178f6a085",
   "metadata": {},
   "outputs": [
    {
     "data": {
      "text/html": [
       "<div>\n",
       "<style scoped>\n",
       "    .dataframe tbody tr th:only-of-type {\n",
       "        vertical-align: middle;\n",
       "    }\n",
       "\n",
       "    .dataframe tbody tr th {\n",
       "        vertical-align: top;\n",
       "    }\n",
       "\n",
       "    .dataframe thead th {\n",
       "        text-align: right;\n",
       "    }\n",
       "</style>\n",
       "<table border=\"1\" class=\"dataframe\">\n",
       "  <thead>\n",
       "    <tr style=\"text-align: right;\">\n",
       "      <th></th>\n",
       "      <th>Name</th>\n",
       "      <th>Country</th>\n",
       "      <th>Height (in cm)</th>\n",
       "    </tr>\n",
       "  </thead>\n",
       "  <tbody>\n",
       "    <tr>\n",
       "      <th>0</th>\n",
       "      <td>Ryu</td>\n",
       "      <td>Japan</td>\n",
       "      <td>175</td>\n",
       "    </tr>\n",
       "    <tr>\n",
       "      <th>1</th>\n",
       "      <td>Ken</td>\n",
       "      <td>USA</td>\n",
       "      <td>175</td>\n",
       "    </tr>\n",
       "    <tr>\n",
       "      <th>2</th>\n",
       "      <td>Chun-Li</td>\n",
       "      <td>China</td>\n",
       "      <td>165</td>\n",
       "    </tr>\n",
       "    <tr>\n",
       "      <th>3</th>\n",
       "      <td>Guile</td>\n",
       "      <td>USA</td>\n",
       "      <td>182</td>\n",
       "    </tr>\n",
       "    <tr>\n",
       "      <th>4</th>\n",
       "      <td>E. Honda</td>\n",
       "      <td>Japan</td>\n",
       "      <td>185</td>\n",
       "    </tr>\n",
       "  </tbody>\n",
       "</table>\n",
       "</div>"
      ],
      "text/plain": [
       "       Name Country  Height (in cm)\n",
       "0       Ryu   Japan             175\n",
       "1       Ken     USA             175\n",
       "2   Chun-Li   China             165\n",
       "3     Guile     USA             182\n",
       "4  E. Honda   Japan             185"
      ]
     },
     "execution_count": 35,
     "metadata": {},
     "output_type": "execute_result"
    }
   ],
   "source": [
    "fighter.head(5)"
   ]
  },
  {
   "cell_type": "code",
   "execution_count": 36,
   "id": "900c5629-94c0-4e85-b296-3bc909f52586",
   "metadata": {},
   "outputs": [
    {
     "data": {
      "text/html": [
       "<div>\n",
       "<style scoped>\n",
       "    .dataframe tbody tr th:only-of-type {\n",
       "        vertical-align: middle;\n",
       "    }\n",
       "\n",
       "    .dataframe tbody tr th {\n",
       "        vertical-align: top;\n",
       "    }\n",
       "\n",
       "    .dataframe thead th {\n",
       "        text-align: right;\n",
       "    }\n",
       "</style>\n",
       "<table border=\"1\" class=\"dataframe\">\n",
       "  <thead>\n",
       "    <tr style=\"text-align: right;\">\n",
       "      <th></th>\n",
       "      <th>Name</th>\n",
       "      <th>Country</th>\n",
       "      <th>Height (in cm)</th>\n",
       "    </tr>\n",
       "  </thead>\n",
       "  <tbody>\n",
       "    <tr>\n",
       "      <th>0</th>\n",
       "      <td>Ryu</td>\n",
       "      <td>Japan</td>\n",
       "      <td>175</td>\n",
       "    </tr>\n",
       "    <tr>\n",
       "      <th>1</th>\n",
       "      <td>Ken</td>\n",
       "      <td>USA</td>\n",
       "      <td>175</td>\n",
       "    </tr>\n",
       "    <tr>\n",
       "      <th>2</th>\n",
       "      <td>Chun-Li</td>\n",
       "      <td>China</td>\n",
       "      <td>165</td>\n",
       "    </tr>\n",
       "  </tbody>\n",
       "</table>\n",
       "</div>"
      ],
      "text/plain": [
       "      Name Country  Height (in cm)\n",
       "0      Ryu   Japan             175\n",
       "1      Ken     USA             175\n",
       "2  Chun-Li   China             165"
      ]
     },
     "execution_count": 36,
     "metadata": {},
     "output_type": "execute_result"
    }
   ],
   "source": [
    "fighter.head(3)"
   ]
  },
  {
   "cell_type": "code",
   "execution_count": 37,
   "id": "be054396-f899-4bb8-9580-6b44e51687a9",
   "metadata": {},
   "outputs": [
    {
     "data": {
      "text/html": [
       "<div>\n",
       "<style scoped>\n",
       "    .dataframe tbody tr th:only-of-type {\n",
       "        vertical-align: middle;\n",
       "    }\n",
       "\n",
       "    .dataframe tbody tr th {\n",
       "        vertical-align: top;\n",
       "    }\n",
       "\n",
       "    .dataframe thead th {\n",
       "        text-align: right;\n",
       "    }\n",
       "</style>\n",
       "<table border=\"1\" class=\"dataframe\">\n",
       "  <thead>\n",
       "    <tr style=\"text-align: right;\">\n",
       "      <th></th>\n",
       "      <th>Name</th>\n",
       "      <th>Country</th>\n",
       "      <th>Height (in cm)</th>\n",
       "    </tr>\n",
       "  </thead>\n",
       "  <tbody>\n",
       "    <tr>\n",
       "      <th>5</th>\n",
       "      <td>Dhalsim</td>\n",
       "      <td>India</td>\n",
       "      <td>176</td>\n",
       "    </tr>\n",
       "    <tr>\n",
       "      <th>6</th>\n",
       "      <td>Blanka</td>\n",
       "      <td>Brazil</td>\n",
       "      <td>192</td>\n",
       "    </tr>\n",
       "    <tr>\n",
       "      <th>7</th>\n",
       "      <td>Zangief</td>\n",
       "      <td>Russia</td>\n",
       "      <td>214</td>\n",
       "    </tr>\n",
       "  </tbody>\n",
       "</table>\n",
       "</div>"
      ],
      "text/plain": [
       "      Name Country  Height (in cm)\n",
       "5  Dhalsim   India             176\n",
       "6   Blanka  Brazil             192\n",
       "7  Zangief  Russia             214"
      ]
     },
     "execution_count": 37,
     "metadata": {},
     "output_type": "execute_result"
    }
   ],
   "source": [
    "fighter.tail(3)"
   ]
  },
  {
   "cell_type": "code",
   "execution_count": 42,
   "id": "3ca35e51-396f-4241-ad6d-cb37f51cf7c6",
   "metadata": {},
   "outputs": [
    {
     "data": {
      "text/html": [
       "<div>\n",
       "<style scoped>\n",
       "    .dataframe tbody tr th:only-of-type {\n",
       "        vertical-align: middle;\n",
       "    }\n",
       "\n",
       "    .dataframe tbody tr th {\n",
       "        vertical-align: top;\n",
       "    }\n",
       "\n",
       "    .dataframe thead th {\n",
       "        text-align: right;\n",
       "    }\n",
       "</style>\n",
       "<table border=\"1\" class=\"dataframe\">\n",
       "  <thead>\n",
       "    <tr style=\"text-align: right;\">\n",
       "      <th></th>\n",
       "      <th>Name</th>\n",
       "      <th>Country</th>\n",
       "      <th>Height (in cm)</th>\n",
       "    </tr>\n",
       "  </thead>\n",
       "  <tbody>\n",
       "    <tr>\n",
       "      <th>0</th>\n",
       "      <td>Ryu</td>\n",
       "      <td>Japan</td>\n",
       "      <td>175</td>\n",
       "    </tr>\n",
       "    <tr>\n",
       "      <th>1</th>\n",
       "      <td>Ken</td>\n",
       "      <td>USA</td>\n",
       "      <td>175</td>\n",
       "    </tr>\n",
       "    <tr>\n",
       "      <th>2</th>\n",
       "      <td>Chun-Li</td>\n",
       "      <td>China</td>\n",
       "      <td>165</td>\n",
       "    </tr>\n",
       "    <tr>\n",
       "      <th>3</th>\n",
       "      <td>Guile</td>\n",
       "      <td>USA</td>\n",
       "      <td>182</td>\n",
       "    </tr>\n",
       "  </tbody>\n",
       "</table>\n",
       "</div>"
      ],
      "text/plain": [
       "      Name Country  Height (in cm)\n",
       "0      Ryu   Japan             175\n",
       "1      Ken     USA             175\n",
       "2  Chun-Li   China             165\n",
       "3    Guile     USA             182"
      ]
     },
     "execution_count": 42,
     "metadata": {},
     "output_type": "execute_result"
    }
   ],
   "source": [
    "fighter[:4]"
   ]
  },
  {
   "cell_type": "code",
   "execution_count": 41,
   "id": "5ea3336a-c224-4830-b3fd-e2d23bfd9b8f",
   "metadata": {},
   "outputs": [
    {
     "data": {
      "text/html": [
       "<div>\n",
       "<style scoped>\n",
       "    .dataframe tbody tr th:only-of-type {\n",
       "        vertical-align: middle;\n",
       "    }\n",
       "\n",
       "    .dataframe tbody tr th {\n",
       "        vertical-align: top;\n",
       "    }\n",
       "\n",
       "    .dataframe thead th {\n",
       "        text-align: right;\n",
       "    }\n",
       "</style>\n",
       "<table border=\"1\" class=\"dataframe\">\n",
       "  <thead>\n",
       "    <tr style=\"text-align: right;\">\n",
       "      <th></th>\n",
       "      <th>Name</th>\n",
       "      <th>Country</th>\n",
       "      <th>Height (in cm)</th>\n",
       "    </tr>\n",
       "  </thead>\n",
       "  <tbody>\n",
       "    <tr>\n",
       "      <th>0</th>\n",
       "      <td>Ryu</td>\n",
       "      <td>Japan</td>\n",
       "      <td>175</td>\n",
       "    </tr>\n",
       "    <tr>\n",
       "      <th>1</th>\n",
       "      <td>Ken</td>\n",
       "      <td>USA</td>\n",
       "      <td>175</td>\n",
       "    </tr>\n",
       "    <tr>\n",
       "      <th>2</th>\n",
       "      <td>Chun-Li</td>\n",
       "      <td>China</td>\n",
       "      <td>165</td>\n",
       "    </tr>\n",
       "    <tr>\n",
       "      <th>3</th>\n",
       "      <td>Guile</td>\n",
       "      <td>USA</td>\n",
       "      <td>182</td>\n",
       "    </tr>\n",
       "    <tr>\n",
       "      <th>4</th>\n",
       "      <td>E. Honda</td>\n",
       "      <td>Japan</td>\n",
       "      <td>185</td>\n",
       "    </tr>\n",
       "  </tbody>\n",
       "</table>\n",
       "</div>"
      ],
      "text/plain": [
       "       Name Country  Height (in cm)\n",
       "0       Ryu   Japan             175\n",
       "1       Ken     USA             175\n",
       "2   Chun-Li   China             165\n",
       "3     Guile     USA             182\n",
       "4  E. Honda   Japan             185"
      ]
     },
     "execution_count": 41,
     "metadata": {},
     "output_type": "execute_result"
    }
   ],
   "source": [
    "fighter[0:5]"
   ]
  }
 ],
 "metadata": {
  "kernelspec": {
   "display_name": "Python 3 (ipykernel)",
   "language": "python",
   "name": "python3"
  },
  "language_info": {
   "codemirror_mode": {
    "name": "ipython",
    "version": 3
   },
   "file_extension": ".py",
   "mimetype": "text/x-python",
   "name": "python",
   "nbconvert_exporter": "python",
   "pygments_lexer": "ipython3",
   "version": "3.10.5"
  }
 },
 "nbformat": 4,
 "nbformat_minor": 5
}
