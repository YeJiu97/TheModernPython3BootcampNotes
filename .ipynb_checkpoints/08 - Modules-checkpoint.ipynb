{
 "cells": [
  {
   "cell_type": "markdown",
   "id": "41f27ff8-3983-4f11-b7f6-f7b3a94f3995",
   "metadata": {},
   "source": [
    "## Modules"
   ]
  },
  {
   "cell_type": "markdown",
   "id": "33ac9a1c-dbe6-4145-b66d-2c1f1e329ed7",
   "metadata": {},
   "source": [
    "Python 模块(Module)，是一个 Python 文件，以 .py 结尾，包含了 Python 对象定义和Python语句。"
   ]
  },
  {
   "cell_type": "code",
   "execution_count": 2,
   "id": "d98c83a8-9af1-4c5d-9850-023b9f23df19",
   "metadata": {},
   "outputs": [
    {
     "data": {
      "text/plain": [
       "69"
      ]
     },
     "execution_count": 2,
     "metadata": {},
     "output_type": "execute_result"
    }
   ],
   "source": [
    "# 导入整个模块\n",
    "import random\n",
    "\n",
    "number = random.randint(0, 100)\n",
    "number"
   ]
  },
  {
   "cell_type": "code",
   "execution_count": 3,
   "id": "db2a003c-0fb8-499c-abb5-c542f39ff32b",
   "metadata": {},
   "outputs": [
    {
     "data": {
      "text/plain": [
       "47"
      ]
     },
     "execution_count": 3,
     "metadata": {},
     "output_type": "execute_result"
    }
   ],
   "source": [
    "# 导入模块中的某一个部分\n",
    "from random import randint\n",
    "\n",
    "number_2 = randint(0, 100)\n",
    "number_2"
   ]
  },
  {
   "cell_type": "markdown",
   "id": "21343b1c-e616-4025-9924-6d98dc1b72c8",
   "metadata": {},
   "source": [
    "Python3的内置Module可以参考：https://docs.python.org/zh-cn/3/library/index.html"
   ]
  },
  {
   "cell_type": "markdown",
   "id": "e3ccf83a-c1fe-48d9-96b7-8ef8b53dc044",
   "metadata": {},
   "source": [
    "用户可以自制一个模块，如："
   ]
  },
  {
   "cell_type": "code",
   "execution_count": 4,
   "id": "f49071c1-98b8-42b1-8a9b-860106b95bf7",
   "metadata": {},
   "outputs": [],
   "source": [
    "# banana.py\n",
    "def like_banana():\n",
    "    \"\"\"print like banana\"\"\"\n",
    "    print(\"Like Banana~!\")"
   ]
  },
  {
   "cell_type": "code",
   "execution_count": 5,
   "id": "401f6151-cd9b-4168-b688-9e4bb690ef90",
   "metadata": {},
   "outputs": [],
   "source": [
    "# 导入banana.py, banana.py需要和main文件在同一个文件夹之下\n",
    "# import banana\n",
    "# like_banana()"
   ]
  },
  {
   "cell_type": "markdown",
   "id": "d5151fa5-6669-4f0e-818f-8303eb114c52",
   "metadata": {},
   "source": [
    "## 安装第三方模块"
   ]
  },
  {
   "cell_type": "markdown",
   "id": "47579138-64e7-4d0a-9aaf-0c1dfaf866ab",
   "metadata": {},
   "source": [
    "第三方模块的安装可以采用 pip3 来进行："
   ]
  },
  {
   "cell_type": "code",
   "execution_count": 6,
   "id": "9a50a58c-db78-4f5b-b462-e740a98e2d09",
   "metadata": {},
   "outputs": [],
   "source": [
    "# pip3 install pygame\n",
    "# pip3 install seaborn\n",
    "# pip3 install numpy\n",
    "# pip3 install pandas\n",
    "# pip3 install matplotlib\n",
    "# pip3 isntall os"
   ]
  },
  {
   "cell_type": "markdown",
   "id": "d57192c6-81ee-4588-925c-6cd35ee4922d",
   "metadata": {},
   "source": [
    "## ASCII模块"
   ]
  },
  {
   "cell_type": "markdown",
   "id": "0a2e99cf-f7cd-4a66-9227-aa77bac71f6f",
   "metadata": {},
   "source": [
    "首先需要安装 pyfiglet 模块："
   ]
  },
  {
   "cell_type": "code",
   "execution_count": 8,
   "id": "aec594ed-97f7-4004-aca9-dcbe6fc26332",
   "metadata": {},
   "outputs": [],
   "source": [
    "# pip3 install pyfiglet"
   ]
  },
  {
   "cell_type": "code",
   "execution_count": 11,
   "id": "900e0673-9404-4f3a-8bc8-ae57386aa1f5",
   "metadata": {},
   "outputs": [
    {
     "name": "stdout",
     "output_type": "stream",
     "text": [
      " _   _      _ _         ____        _   _                 \n",
      "| | | | ___| | | ___   |  _ \\ _   _| |_| |__   ___  _ __  \n",
      "| |_| |/ _ \\ | |/ _ \\  | |_) | | | | __| '_ \\ / _ \\| '_ \\ \n",
      "|  _  |  __/ | | (_) | |  __/| |_| | |_| | | | (_) | | | |\n",
      "|_| |_|\\___|_|_|\\___/  |_|    \\__, |\\__|_| |_|\\___/|_| |_|\n",
      "                              |___/                       \n",
      "\n"
     ]
    }
   ],
   "source": [
    "# 接着导入 pyfiglet 模块\n",
    "import pyfiglet\n",
    "\n",
    "result = pyfiglet.figlet_format(\"Hello Python\")\n",
    "\n",
    "print(result)"
   ]
  },
  {
   "cell_type": "code",
   "execution_count": 12,
   "id": "5f0f26ee-3f64-4678-9537-26c8bd564faf",
   "metadata": {},
   "outputs": [],
   "source": [
    "# 安装termcolor\n",
    "# pip3 install termcolor"
   ]
  },
  {
   "cell_type": "code",
   "execution_count": 17,
   "id": "20fadcd5-b4b4-48ef-8ca1-992c567c2f15",
   "metadata": {},
   "outputs": [
    {
     "name": "stdout",
     "output_type": "stream",
     "text": [
      " _   _      _ _         ____        _   _                 \n",
      "| | | | ___| | | ___   |  _ \\ _   _| |_| |__   ___  _ __  \n",
      "| |_| |/ _ \\ | |/ _ \\  | |_) | | | | __| '_ \\ / _ \\| '_ \\ \n",
      "|  _  |  __/ | | (_) | |  __/| |_| | |_| | | | (_) | | | |\n",
      "|_| |_|\\___|_|_|\\___/  |_|    \\__, |\\__|_| |_|\\___/|_| |_|\n",
      "                              |___/                       \n",
      "\n"
     ]
    }
   ],
   "source": [
    "# 导入termcolor模块\n",
    "from termcolor import colored\n",
    "import pyfiglet\n",
    "\n",
    "result_1 = colored(pyfiglet.figlet_format(\"Hello Python\"), color = \"red\")\n",
    "\n",
    "print(result_1)"
   ]
  }
 ],
 "metadata": {
  "kernelspec": {
   "display_name": "Python 3 (ipykernel)",
   "language": "python",
   "name": "python3"
  },
  "language_info": {
   "codemirror_mode": {
    "name": "ipython",
    "version": 3
   },
   "file_extension": ".py",
   "mimetype": "text/x-python",
   "name": "python",
   "nbconvert_exporter": "python",
   "pygments_lexer": "ipython3",
   "version": "3.10.5"
  }
 },
 "nbformat": 4,
 "nbformat_minor": 5
}
