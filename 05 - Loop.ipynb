{
 "cells": [
  {
   "cell_type": "markdown",
   "id": "385fa1c7-3f0d-4c5e-9763-a77e7512dabf",
   "metadata": {},
   "source": [
    "## for 循环"
   ]
  },
  {
   "cell_type": "markdown",
   "id": "68b3a67d-bdd0-4f9e-80ae-08f65bcebc40",
   "metadata": {},
   "source": [
    "例子如下所示："
   ]
  },
  {
   "cell_type": "code",
   "execution_count": 2,
   "id": "8406873f-4be8-4875-940f-17af2047b5c0",
   "metadata": {},
   "outputs": [
    {
     "name": "stdout",
     "output_type": "stream",
     "text": [
      "1\n",
      "2\n",
      "3\n",
      "4\n",
      "5\n",
      "6\n",
      "7\n",
      "8\n",
      "9\n",
      "10\n"
     ]
    }
   ],
   "source": [
    "number_list = [1, 2, 3, 4, 5, 6, 7, 8, 9, 10]\n",
    "for number in number_list:\n",
    "    print(number)"
   ]
  },
  {
   "cell_type": "markdown",
   "id": "98b9253a-26f5-4aa4-868f-075e8ac289e1",
   "metadata": {},
   "source": [
    "在上述代码中，number被作为一个临时的iterable object出现，用来对number_list中的元素进行迭代。"
   ]
  },
  {
   "cell_type": "code",
   "execution_count": 3,
   "id": "d8142192-31d1-4c6c-8cf2-1914eef67146",
   "metadata": {},
   "outputs": [
    {
     "name": "stdout",
     "output_type": "stream",
     "text": [
      "H\n",
      "e\n",
      "l\n",
      "l\n",
      "o\n",
      " \n",
      "W\n",
      "o\n",
      "r\n",
      "l\n",
      "d\n"
     ]
    }
   ],
   "source": [
    "string_var = \"Hello World\"\n",
    "\n",
    "for char in string_var:\n",
    "    print(char)"
   ]
  },
  {
   "cell_type": "code",
   "execution_count": 7,
   "id": "83a6a20e-299d-4b76-87f2-7e0e92d46b66",
   "metadata": {},
   "outputs": [
    {
     "name": "stdout",
     "output_type": "stream",
     "text": [
      "10\n",
      "12\n",
      "14\n",
      "16\n",
      "18\n"
     ]
    }
   ],
   "source": [
    "for num in range(10, 20, 2):\n",
    "    print(num)"
   ]
  },
  {
   "cell_type": "markdown",
   "id": "15d2b55f-cbc6-4dd9-89e9-0c715b4ce8b8",
   "metadata": {},
   "source": [
    "所有的偶数："
   ]
  },
  {
   "cell_type": "code",
   "execution_count": 8,
   "id": "e778b1ad-503d-47bc-9d18-ab9bbaf13a2a",
   "metadata": {},
   "outputs": [
    {
     "name": "stdout",
     "output_type": "stream",
     "text": [
      "0\n",
      "2\n",
      "4\n",
      "6\n",
      "8\n",
      "10\n",
      "12\n",
      "14\n",
      "16\n",
      "18\n",
      "20\n",
      "22\n",
      "24\n",
      "26\n",
      "28\n",
      "30\n",
      "32\n",
      "34\n",
      "36\n",
      "38\n",
      "40\n",
      "42\n",
      "44\n",
      "46\n",
      "48\n",
      "50\n",
      "52\n",
      "54\n",
      "56\n",
      "58\n",
      "60\n",
      "62\n",
      "64\n",
      "66\n",
      "68\n",
      "70\n",
      "72\n",
      "74\n",
      "76\n",
      "78\n",
      "80\n",
      "82\n",
      "84\n",
      "86\n",
      "88\n",
      "90\n",
      "92\n",
      "94\n",
      "96\n",
      "98\n",
      "100\n"
     ]
    }
   ],
   "source": [
    "for num in range(101):\n",
    "    if num % 2 == 0:\n",
    "        print(num)"
   ]
  },
  {
   "cell_type": "markdown",
   "id": "199f8f0f-2f02-4a0b-b22d-095841ab161f",
   "metadata": {},
   "source": [
    "## while 循环"
   ]
  },
  {
   "cell_type": "markdown",
   "id": "d3f73700-b31e-491a-b52e-c3d8492b35e5",
   "metadata": {},
   "source": [
    "所有可以通过for来进行的循环，都可以使用while循环来进行实现："
   ]
  },
  {
   "cell_type": "code",
   "execution_count": 1,
   "id": "e81b7cd0-3cac-4216-bde2-580b016b9153",
   "metadata": {},
   "outputs": [
    {
     "name": "stdout",
     "output_type": "stream",
     "text": [
      "0\n",
      "2\n",
      "4\n",
      "6\n",
      "8\n",
      "10\n",
      "12\n",
      "14\n",
      "16\n",
      "18\n",
      "20\n",
      "22\n",
      "24\n",
      "26\n",
      "28\n",
      "30\n",
      "32\n",
      "34\n",
      "36\n",
      "38\n",
      "40\n",
      "42\n",
      "44\n",
      "46\n",
      "48\n",
      "50\n",
      "52\n",
      "54\n",
      "56\n",
      "58\n",
      "60\n",
      "62\n",
      "64\n",
      "66\n",
      "68\n",
      "70\n",
      "72\n",
      "74\n",
      "76\n",
      "78\n",
      "80\n",
      "82\n",
      "84\n",
      "86\n",
      "88\n",
      "90\n",
      "92\n",
      "94\n",
      "96\n",
      "98\n",
      "100\n"
     ]
    }
   ],
   "source": [
    "num = 0\n",
    "\n",
    "while num <= 100:\n",
    "    if num % 2 == 0:\n",
    "        print(num)\n",
    "    num = num + 1"
   ]
  },
  {
   "cell_type": "markdown",
   "id": "8b26e280-3a42-4ab4-8638-3791f7bbdb3f",
   "metadata": {},
   "source": [
    "## Guessing Game"
   ]
  },
  {
   "cell_type": "markdown",
   "id": "e8a44ba3-2a70-4bb9-acd0-e021db618f34",
   "metadata": {},
   "source": [
    "我们让玩家猜测一个在0~100（包括0和100）之间的数字，一共有7次机会："
   ]
  },
  {
   "cell_type": "code",
   "execution_count": 6,
   "id": "87c933e2-fddf-4361-a045-93138d2e44e6",
   "metadata": {},
   "outputs": [
    {
     "name": "stdin",
     "output_type": "stream",
     "text": [
      "Please enter your number here: 50\n"
     ]
    },
    {
     "name": "stdout",
     "output_type": "stream",
     "text": [
      "Sorry you are wrong!\n",
      "Your number is smaller.\n"
     ]
    },
    {
     "name": "stdin",
     "output_type": "stream",
     "text": [
      "Please enter your number here: 75\n"
     ]
    },
    {
     "name": "stdout",
     "output_type": "stream",
     "text": [
      "Sorry you are wrong!\n",
      "Your number is smaller.\n"
     ]
    },
    {
     "name": "stdin",
     "output_type": "stream",
     "text": [
      "Please enter your number here: 90\n"
     ]
    },
    {
     "name": "stdout",
     "output_type": "stream",
     "text": [
      "Sorry you are wrong!\n",
      "Your number is bigger.\n"
     ]
    },
    {
     "name": "stdin",
     "output_type": "stream",
     "text": [
      "Please enter your number here: 85\n"
     ]
    },
    {
     "name": "stdout",
     "output_type": "stream",
     "text": [
      "Sorry you are wrong!\n",
      "Your number is bigger.\n"
     ]
    },
    {
     "name": "stdin",
     "output_type": "stream",
     "text": [
      "Please enter your number here: 80\n"
     ]
    },
    {
     "name": "stdout",
     "output_type": "stream",
     "text": [
      "Sorry you are wrong!\n",
      "Your number is bigger.\n"
     ]
    },
    {
     "name": "stdin",
     "output_type": "stream",
     "text": [
      "Please enter your number here: 77\n"
     ]
    },
    {
     "name": "stdout",
     "output_type": "stream",
     "text": [
      "Sorry you are wrong!\n",
      "Your number is bigger.\n"
     ]
    },
    {
     "name": "stdin",
     "output_type": "stream",
     "text": [
      "Please enter your number here: 76\n"
     ]
    },
    {
     "name": "stdout",
     "output_type": "stream",
     "text": [
      "Your are correct!\n"
     ]
    }
   ],
   "source": [
    "import random\n",
    "\n",
    "guess_chance = 7\n",
    "target_number = random.randint(0, 100)\n",
    "\n",
    "while guess_chance > 0:\n",
    "    guess_number = int(input(\"Please enter your number here:\"))\n",
    "    if guess_number == target_number:\n",
    "        print(\"Your are correct!\")\n",
    "        break\n",
    "    else:\n",
    "        print(\"Sorry you are wrong!\")\n",
    "        if guess_number > target_number:\n",
    "            print(\"Your number is bigger.\")\n",
    "        else:\n",
    "            print(\"Your number is smaller.\")\n",
    "    guess_chance = guess_chance - 1"
   ]
  },
  {
   "cell_type": "markdown",
   "id": "b649792b-30f9-45a1-af20-691e5ac90880",
   "metadata": {},
   "source": [
    "这里采用了二分法来进行，7次的机会应该是足够了的。"
   ]
  }
 ],
 "metadata": {
  "kernelspec": {
   "display_name": "Python 3 (ipykernel)",
   "language": "python",
   "name": "python3"
  },
  "language_info": {
   "codemirror_mode": {
    "name": "ipython",
    "version": 3
   },
   "file_extension": ".py",
   "mimetype": "text/x-python",
   "name": "python",
   "nbconvert_exporter": "python",
   "pygments_lexer": "ipython3",
   "version": "3.10.5"
  }
 },
 "nbformat": 4,
 "nbformat_minor": 5
}
