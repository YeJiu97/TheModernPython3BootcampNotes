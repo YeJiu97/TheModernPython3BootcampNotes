{
 "cells": [
  {
   "cell_type": "markdown",
   "id": "6cb0c396-f169-4f90-a349-89957eea84af",
   "metadata": {},
   "source": [
    "## Lists"
   ]
  },
  {
   "cell_type": "markdown",
   "id": "aafdca1d-146c-4447-ba2e-854ef4e45cb3",
   "metadata": {},
   "source": [
    "列表是最常用的Python数据类型，它可以作为一个方括号内的逗号分隔值出现。列表的数据项不需要具有相同的类型。"
   ]
  },
  {
   "cell_type": "code",
   "execution_count": 18,
   "id": "51d318dc-0a12-4328-9776-d3dd3cf5f295",
   "metadata": {},
   "outputs": [
    {
     "name": "stdin",
     "output_type": "stream",
     "text": [
      "please enter what you want here('enter Q to exit'): Q\n"
     ]
    }
   ],
   "source": [
    "list_1 = []\n",
    "\n",
    "while True:\n",
    "    name = input(\"please enter what you want here('enter Q to exit'):\")\n",
    "    if name == \"Q\":\n",
    "        break\n",
    "    else:\n",
    "        list_1.append(name)\n",
    "\n",
    "for list_element in list_1:\n",
    "    print(list_element)"
   ]
  },
  {
   "cell_type": "code",
   "execution_count": 19,
   "id": "5e1bea22-fd2f-46e2-9219-6532ab124cfa",
   "metadata": {},
   "outputs": [],
   "source": [
    "list_2 = [\"A\", \"B\", \"C\"]"
   ]
  },
  {
   "cell_type": "markdown",
   "id": "9df2cf4c-98e2-4d59-95c9-5490e537b125",
   "metadata": {},
   "source": [
    "list的序列是从0开始的，而不是1。"
   ]
  },
  {
   "cell_type": "code",
   "execution_count": 20,
   "id": "eed6182a-9fe7-457e-8e30-a68a0fd53e80",
   "metadata": {},
   "outputs": [
    {
     "data": {
      "text/plain": [
       "'A'"
      ]
     },
     "execution_count": 20,
     "metadata": {},
     "output_type": "execute_result"
    }
   ],
   "source": [
    "list_2[0]"
   ]
  },
  {
   "cell_type": "markdown",
   "id": "d2cf618e-10b7-4aa5-a831-f56455c76557",
   "metadata": {},
   "source": [
    "可以使用负数来从末尾往前："
   ]
  },
  {
   "cell_type": "code",
   "execution_count": 21,
   "id": "78424dd8-8847-4ae0-9cf5-cf75fbf9acae",
   "metadata": {},
   "outputs": [
    {
     "data": {
      "text/plain": [
       "'C'"
      ]
     },
     "execution_count": 21,
     "metadata": {},
     "output_type": "execute_result"
    }
   ],
   "source": [
    "list_2[-1]"
   ]
  },
  {
   "cell_type": "code",
   "execution_count": 22,
   "id": "3d5d3d99-6eb2-4a63-bb1e-56312adf8eb6",
   "metadata": {},
   "outputs": [
    {
     "data": {
      "text/plain": [
       "'B'"
      ]
     },
     "execution_count": 22,
     "metadata": {},
     "output_type": "execute_result"
    }
   ],
   "source": [
    "list_2[-2]"
   ]
  },
  {
   "cell_type": "markdown",
   "id": "ff365c95-7029-4975-b3f3-b0757b87d6d3",
   "metadata": {},
   "source": [
    "list常用的方法有："
   ]
  },
  {
   "cell_type": "code",
   "execution_count": 23,
   "id": "2f7729d3-37fd-47a2-afe0-104fceea2201",
   "metadata": {},
   "outputs": [],
   "source": [
    "list_mod = [1, 2, 3]"
   ]
  },
  {
   "cell_type": "code",
   "execution_count": 24,
   "id": "3ee035f1-9062-4ef7-84ee-510fe9faffae",
   "metadata": {},
   "outputs": [
    {
     "data": {
      "text/plain": [
       "[1, 2, 3, 4]"
      ]
     },
     "execution_count": 24,
     "metadata": {},
     "output_type": "execute_result"
    }
   ],
   "source": [
    "# append 为添加\n",
    "list_mod.append(4)\n",
    "list_mod"
   ]
  },
  {
   "cell_type": "code",
   "execution_count": 25,
   "id": "afed5219-1598-4452-812f-29dffeadaf96",
   "metadata": {},
   "outputs": [
    {
     "data": {
      "text/plain": [
       "[1, 2, 3]"
      ]
     },
     "execution_count": 25,
     "metadata": {},
     "output_type": "execute_result"
    }
   ],
   "source": [
    "# del 为删除\n",
    "del list_mod[-1]\n",
    "list_mod"
   ]
  },
  {
   "cell_type": "code",
   "execution_count": 26,
   "id": "2c41c27d-68f6-496c-ae7d-b902b5998c50",
   "metadata": {},
   "outputs": [
    {
     "data": {
      "text/plain": [
       "3"
      ]
     },
     "execution_count": 26,
     "metadata": {},
     "output_type": "execute_result"
    }
   ],
   "source": [
    "# len 为长度\n",
    "len(list_mod)"
   ]
  },
  {
   "cell_type": "code",
   "execution_count": 27,
   "id": "f2f77276-6b23-4ebc-a3e1-d829c004d003",
   "metadata": {},
   "outputs": [
    {
     "data": {
      "text/plain": [
       "[1, 2, 3, 4, 5, 6]"
      ]
     },
     "execution_count": 27,
     "metadata": {},
     "output_type": "execute_result"
    }
   ],
   "source": [
    "# + 为合并\n",
    "list_mod = list_mod + [4, 5, 6]\n",
    "list_mod"
   ]
  },
  {
   "cell_type": "code",
   "execution_count": 28,
   "id": "ce6e6cba-9ced-4b56-a65a-ab3bfeadba65",
   "metadata": {},
   "outputs": [
    {
     "data": {
      "text/plain": [
       "False"
      ]
     },
     "execution_count": 28,
     "metadata": {},
     "output_type": "execute_result"
    }
   ],
   "source": [
    "# in 为查询是否在其中\n",
    "9 in list_mod"
   ]
  },
  {
   "cell_type": "code",
   "execution_count": 29,
   "id": "fbb884b5-7bb1-4405-b209-016ef02f5f40",
   "metadata": {},
   "outputs": [
    {
     "data": {
      "text/plain": [
       "1"
      ]
     },
     "execution_count": 29,
     "metadata": {},
     "output_type": "execute_result"
    }
   ],
   "source": [
    "# min 为最小值\n",
    "min(list_mod)"
   ]
  },
  {
   "cell_type": "code",
   "execution_count": 30,
   "id": "1d49f413-b67d-4651-b754-32d01ea81304",
   "metadata": {},
   "outputs": [
    {
     "data": {
      "text/plain": [
       "6"
      ]
     },
     "execution_count": 30,
     "metadata": {},
     "output_type": "execute_result"
    }
   ],
   "source": [
    "# max 为最大值\n",
    "max(list_mod)"
   ]
  },
  {
   "cell_type": "code",
   "execution_count": 31,
   "id": "4914b584-e265-448a-9fd9-a53c2b673bfa",
   "metadata": {},
   "outputs": [
    {
     "data": {
      "text/plain": [
       "[1, 2, 3, 4, 5, 6, 7, 8, 9]"
      ]
     },
     "execution_count": 31,
     "metadata": {},
     "output_type": "execute_result"
    }
   ],
   "source": [
    "# extend 为对原先的列表添加新的列表的值\n",
    "list_extend = [7, 8, 9]\n",
    "list_mod.extend(list_extend)\n",
    "list_mod"
   ]
  },
  {
   "cell_type": "code",
   "execution_count": 33,
   "id": "95b5828f-374b-4c51-b2a9-3873af66b0f9",
   "metadata": {},
   "outputs": [
    {
     "data": {
      "text/plain": [
       "9"
      ]
     },
     "execution_count": 33,
     "metadata": {},
     "output_type": "execute_result"
    }
   ],
   "source": [
    "# pop 将某一个元素弹出并且返回\n",
    "ele_pop = list_mod.pop(-1)\n",
    "ele_pop"
   ]
  },
  {
   "cell_type": "code",
   "execution_count": 34,
   "id": "300a1f0e-bba2-4ce5-956d-248bd534101a",
   "metadata": {},
   "outputs": [
    {
     "data": {
      "text/plain": [
       "[1, 2, 3, 4, 5, 6, 7, 8]"
      ]
     },
     "execution_count": 34,
     "metadata": {},
     "output_type": "execute_result"
    }
   ],
   "source": [
    "list_mod"
   ]
  },
  {
   "cell_type": "code",
   "execution_count": 36,
   "id": "f06dda9f-d4bd-473b-87a3-d5b0c6e95c2e",
   "metadata": {},
   "outputs": [
    {
     "data": {
      "text/plain": [
       "[8, 7, 6, 5, 4, 3, 2, 1]"
      ]
     },
     "execution_count": 36,
     "metadata": {},
     "output_type": "execute_result"
    }
   ],
   "source": [
    "# sort 可以进行排序，提供reverse参数可以进行从大到小的排序\n",
    "list_mod.sort(reverse=True)\n",
    "list_mod"
   ]
  },
  {
   "cell_type": "code",
   "execution_count": 38,
   "id": "19e8e794-5ac1-4fd6-ac89-344506b547d1",
   "metadata": {},
   "outputs": [
    {
     "data": {
      "text/plain": [
       "[8, 7, 6, 5, 4, 3, 2, 1]"
      ]
     },
     "execution_count": 38,
     "metadata": {},
     "output_type": "execute_result"
    }
   ],
   "source": [
    "# 使用 : 可以进行切片\n",
    "list_mod[::]"
   ]
  },
  {
   "cell_type": "code",
   "execution_count": 39,
   "id": "18ae8bff-099e-46b1-8b69-16fcda492264",
   "metadata": {},
   "outputs": [
    {
     "data": {
      "text/plain": [
       "[8, 6, 4, 2]"
      ]
     },
     "execution_count": 39,
     "metadata": {},
     "output_type": "execute_result"
    }
   ],
   "source": [
    "# 步伐为2\n",
    "list_mod[::2]"
   ]
  },
  {
   "cell_type": "code",
   "execution_count": 40,
   "id": "89ab84b5-5db9-4861-8e5f-69705594d58d",
   "metadata": {},
   "outputs": [
    {
     "data": {
      "text/plain": [
       "[1, 2, 3, 4, 5, 6, 7, 8]"
      ]
     },
     "execution_count": 40,
     "metadata": {},
     "output_type": "execute_result"
    }
   ],
   "source": [
    "# 从后往前\n",
    "list_mod[::-1]"
   ]
  },
  {
   "cell_type": "code",
   "execution_count": 41,
   "id": "fb35ace6-de24-4a74-b765-5756f5d1e582",
   "metadata": {},
   "outputs": [
    {
     "data": {
      "text/plain": [
       "[5, 2, 3, 4, 1]"
      ]
     },
     "execution_count": 41,
     "metadata": {},
     "output_type": "execute_result"
    }
   ],
   "source": [
    "# 对调\n",
    "list_swap = [1, 2, 3, 4, 5]\n",
    "list_swap[0], list_swap[-1]  = list_swap[-1], list_swap[0]\n",
    "list_swap"
   ]
  },
  {
   "cell_type": "code",
   "execution_count": 43,
   "id": "7ef93ab4-ba7e-4a63-8c86-5705a4a7bea6",
   "metadata": {},
   "outputs": [
    {
     "data": {
      "text/plain": [
       "[0, 1, 2, 3, 4, 5, 6, 7, 8, 9]"
      ]
     },
     "execution_count": 43,
     "metadata": {},
     "output_type": "execute_result"
    }
   ],
   "source": [
    "# 我们可以使用表达式来进行生成\n",
    "list_express = [x for x in range(10)]\n",
    "list_express"
   ]
  },
  {
   "cell_type": "code",
   "execution_count": 44,
   "id": "99f98d3c-3a2d-4ef4-9f05-faabf01c8e2d",
   "metadata": {},
   "outputs": [
    {
     "name": "stdout",
     "output_type": "stream",
     "text": [
      "0\n",
      "1\n",
      "2\n",
      "3\n",
      "4\n",
      "5\n",
      "6\n",
      "7\n",
      "8\n",
      "9\n"
     ]
    }
   ],
   "source": [
    "# 如果要循环，建议使用 _ 符号\n",
    "for _ in list_express:\n",
    "    print(_)"
   ]
  },
  {
   "cell_type": "markdown",
   "id": "4da36d95-2636-4ce2-a072-6f3f8f164dc1",
   "metadata": {},
   "source": [
    "## Dictionary"
   ]
  },
  {
   "cell_type": "markdown",
   "id": "1b67f9c5-c427-402f-a7db-20b6a5ebc82f",
   "metadata": {},
   "source": [
    "字典是另一种可变容器模型，且可存储任意类型对象。字典的每个键值 key:value 对用冒号 : 分割，每个键值对之间用逗号 , 分割。"
   ]
  },
  {
   "cell_type": "code",
   "execution_count": 1,
   "id": "99bd0ea8-368f-4805-8873-5acbaedda9a9",
   "metadata": {},
   "outputs": [],
   "source": [
    "instructor = {\n",
    "    \"name\" : \"Cola\",\n",
    "    \"price\" : \"$2.5\",\n",
    "    \"sugar\" : \"No Sugar\"\n",
    "}"
   ]
  },
  {
   "cell_type": "code",
   "execution_count": 2,
   "id": "836f940d-44d3-4fd0-bb73-f9d1e46feb16",
   "metadata": {},
   "outputs": [
    {
     "data": {
      "text/plain": [
       "'Cola'"
      ]
     },
     "execution_count": 2,
     "metadata": {},
     "output_type": "execute_result"
    }
   ],
   "source": [
    "instructor[\"name\"]"
   ]
  },
  {
   "cell_type": "code",
   "execution_count": 3,
   "id": "64d4b055-a1d2-43e0-90d9-7ace673bd8d6",
   "metadata": {},
   "outputs": [
    {
     "data": {
      "text/plain": [
       "'$2.5'"
      ]
     },
     "execution_count": 3,
     "metadata": {},
     "output_type": "execute_result"
    }
   ],
   "source": [
    "instructor[\"price\"]"
   ]
  },
  {
   "cell_type": "code",
   "execution_count": 4,
   "id": "8617732f-0790-44da-8031-db8a6eb45261",
   "metadata": {},
   "outputs": [
    {
     "data": {
      "text/plain": [
       "dict_values(['Cola', '$2.5', 'No Sugar'])"
      ]
     },
     "execution_count": 4,
     "metadata": {},
     "output_type": "execute_result"
    }
   ],
   "source": [
    "# 获得所有的值\n",
    "instructor.values()"
   ]
  },
  {
   "cell_type": "code",
   "execution_count": 5,
   "id": "db7df69e-3c4c-4526-981a-677316b8c1f7",
   "metadata": {},
   "outputs": [
    {
     "data": {
      "text/plain": [
       "dict_keys(['name', 'price', 'sugar'])"
      ]
     },
     "execution_count": 5,
     "metadata": {},
     "output_type": "execute_result"
    }
   ],
   "source": [
    "# 获得所有的键\n",
    "instructor.keys()"
   ]
  },
  {
   "cell_type": "code",
   "execution_count": 8,
   "id": "79d2c318-0452-4f38-93ef-9f825c01a05f",
   "metadata": {},
   "outputs": [
    {
     "name": "stdout",
     "output_type": "stream",
     "text": [
      "name\n",
      "price\n",
      "sugar\n"
     ]
    }
   ],
   "source": [
    "# 将所有的值都打印出来\n",
    "for value in instructor.keys():\n",
    "    print(value)"
   ]
  },
  {
   "cell_type": "code",
   "execution_count": 7,
   "id": "bac82d4d-66d7-4231-8cbc-16e653ac0a7b",
   "metadata": {},
   "outputs": [
    {
     "data": {
      "text/plain": [
       "True"
      ]
     },
     "execution_count": 7,
     "metadata": {},
     "output_type": "execute_result"
    }
   ],
   "source": [
    "# 尝试判断instructor的键是否包含了某一个具体的值\n",
    "'name' in instructor.keys()"
   ]
  },
  {
   "cell_type": "code",
   "execution_count": 9,
   "id": "779a69dd-8d90-48a2-af7d-5ca45bffd618",
   "metadata": {},
   "outputs": [
    {
     "data": {
      "text/plain": [
       "dict_items([('name', 'Cola'), ('price', '$2.5'), ('sugar', 'No Sugar')])"
      ]
     },
     "execution_count": 9,
     "metadata": {},
     "output_type": "execute_result"
    }
   ],
   "source": [
    "# items()返回键值对\n",
    "instructor.items()"
   ]
  },
  {
   "cell_type": "code",
   "execution_count": 10,
   "id": "67c99851-ba0b-470a-a85e-a28c5a9bc5e1",
   "metadata": {},
   "outputs": [
    {
     "name": "stdout",
     "output_type": "stream",
     "text": [
      "key is name and its value is Cola\n",
      "key is price and its value is $2.5\n",
      "key is sugar and its value is No Sugar\n"
     ]
    }
   ],
   "source": [
    "for key,value in instructor.items():\n",
    "    print(f\"key is {key} and its value is {value}\")"
   ]
  },
  {
   "cell_type": "code",
   "execution_count": 14,
   "id": "b8054441-7549-410d-8908-2b64868acd71",
   "metadata": {},
   "outputs": [
    {
     "data": {
      "text/plain": [
       "{'a': 1, 'b': 2, 'c': 3}"
      ]
     },
     "execution_count": 14,
     "metadata": {},
     "output_type": "execute_result"
    }
   ],
   "source": [
    "# clear\n",
    "dict_1 = dict(a = 1, b = 2, c = 3)\n",
    "dict_1"
   ]
  },
  {
   "cell_type": "code",
   "execution_count": 18,
   "id": "8e8f601e-b38d-47b2-89af-4c47663de29c",
   "metadata": {},
   "outputs": [
    {
     "data": {
      "text/plain": [
       "{}"
      ]
     },
     "execution_count": 18,
     "metadata": {},
     "output_type": "execute_result"
    }
   ],
   "source": [
    "dict_1.clear()\n",
    "dict_1"
   ]
  },
  {
   "cell_type": "code",
   "execution_count": 19,
   "id": "f3ec12b9-e17b-4250-b19a-2a60aa7e92df",
   "metadata": {},
   "outputs": [
    {
     "data": {
      "text/plain": [
       "{'a': 'b'}"
      ]
     },
     "execution_count": 19,
     "metadata": {},
     "output_type": "execute_result"
    }
   ],
   "source": [
    "# fromkeys()函数\n",
    "{}.fromkeys(\"a\", \"b\")"
   ]
  },
  {
   "cell_type": "code",
   "execution_count": 20,
   "id": "fb9a837c-e2db-4515-8efb-6a83ddc8fc06",
   "metadata": {},
   "outputs": [
    {
     "data": {
      "text/plain": [
       "{'email': 'unknown'}"
      ]
     },
     "execution_count": 20,
     "metadata": {},
     "output_type": "execute_result"
    }
   ],
   "source": [
    "{}.fromkeys([\"email\"], \"unknown\")"
   ]
  },
  {
   "cell_type": "code",
   "execution_count": 21,
   "id": "63527a18-81aa-4ffc-9019-30e9abe5d682",
   "metadata": {},
   "outputs": [
    {
     "data": {
      "text/plain": [
       "{'name': 'unknown',\n",
       " 'score': 'unknown',\n",
       " 'email': 'unknown',\n",
       " 'profile bio': 'unknown'}"
      ]
     },
     "execution_count": 21,
     "metadata": {},
     "output_type": "execute_result"
    }
   ],
   "source": [
    "new_user = {}.fromkeys(['name', 'score', 'email', 'profile bio'], 'unknown')\n",
    "new_user"
   ]
  },
  {
   "cell_type": "code",
   "execution_count": 25,
   "id": "68401131-2e05-454e-b91b-ce75dc56fad5",
   "metadata": {},
   "outputs": [
    {
     "data": {
      "text/plain": [
       "{'name': ['Bob', '85', 'abcde@email.com', 'Data Science'],\n",
       " 'score': ['Bob', '85', 'abcde@email.com', 'Data Science'],\n",
       " 'email': ['Bob', '85', 'abcde@email.com', 'Data Science'],\n",
       " 'profile bio': ['Bob', '85', 'abcde@email.com', 'Data Science']}"
      ]
     },
     "execution_count": 25,
     "metadata": {},
     "output_type": "execute_result"
    }
   ],
   "source": [
    "new_user_2 = {}.fromkeys(['name', 'score', 'email', 'profile bio'], [\"Bob\", \"85\", \"abcde@email.com\", 'Data Science'])\n",
    "new_user_2"
   ]
  },
  {
   "cell_type": "code",
   "execution_count": 26,
   "id": "30da9c54-b6b8-4b29-9103-35fa39bf9e2e",
   "metadata": {},
   "outputs": [
    {
     "data": {
      "text/plain": [
       "{'name': 'Bob', 'Age': '25'}"
      ]
     },
     "execution_count": 26,
     "metadata": {},
     "output_type": "execute_result"
    }
   ],
   "source": [
    "# pop 用来删除对应的键的值，并且将这个值返回\n",
    "user_names = {\"name\" : \"Bob\", \"Age\" : \"25\"}\n",
    "user_names"
   ]
  },
  {
   "cell_type": "code",
   "execution_count": 27,
   "id": "de0d8cc7-c09b-4a61-b6d2-bad505447f9b",
   "metadata": {},
   "outputs": [
    {
     "data": {
      "text/plain": [
       "'Bob'"
      ]
     },
     "execution_count": 27,
     "metadata": {},
     "output_type": "execute_result"
    }
   ],
   "source": [
    "user_name = user_names.pop(\"name\")\n",
    "user_name"
   ]
  },
  {
   "cell_type": "code",
   "execution_count": 28,
   "id": "a126c8a0-91dc-4bca-b404-ec336f4e5c23",
   "metadata": {},
   "outputs": [
    {
     "data": {
      "text/plain": [
       "{'Age': '25'}"
      ]
     },
     "execution_count": 28,
     "metadata": {},
     "output_type": "execute_result"
    }
   ],
   "source": [
    "user_names"
   ]
  },
  {
   "cell_type": "code",
   "execution_count": 29,
   "id": "bcdad4dd-8da6-48e3-ad0a-e14cdf7c41bb",
   "metadata": {},
   "outputs": [
    {
     "data": {
      "text/plain": [
       "{'a': '1', 'b': '2'}"
      ]
     },
     "execution_count": 29,
     "metadata": {},
     "output_type": "execute_result"
    }
   ],
   "source": [
    "# 添加新的键值对\n",
    "dic_add = {\"a\" : \"1\", \"b\" : \"2\"}\n",
    "dic_add"
   ]
  },
  {
   "cell_type": "code",
   "execution_count": 30,
   "id": "6b6eac98-2498-4461-bd0c-92c0f39ee6df",
   "metadata": {},
   "outputs": [
    {
     "data": {
      "text/plain": [
       "{'a': '1', 'b': '2', 'c': '3'}"
      ]
     },
     "execution_count": 30,
     "metadata": {},
     "output_type": "execute_result"
    }
   ],
   "source": [
    "dic_add[\"c\"] = \"3\"\n",
    "dic_add"
   ]
  },
  {
   "cell_type": "code",
   "execution_count": 31,
   "id": "b6b29cb9-8a69-4941-b955-f0bf9b09997b",
   "metadata": {},
   "outputs": [
    {
     "data": {
      "text/plain": [
       "{'a': '1', 'b': '2', 'c': '3', 'd': '4'}"
      ]
     },
     "execution_count": 31,
     "metadata": {},
     "output_type": "execute_result"
    }
   ],
   "source": [
    "# 将另一个字典的键值对添加到一个字典当中\n",
    "dic_update = {\"a\" : \"1\", \"b\" : \"2\"}\n",
    "dic_another = {\"c\" : \"3\", \"d\" : \"4\"}\n",
    "\n",
    "dic_update.update(dic_another)\n",
    "dic_update"
   ]
  },
  {
   "cell_type": "markdown",
   "id": "0402f999-c846-4d8c-a066-fb77b1987431",
   "metadata": {},
   "source": [
    "## Tuple"
   ]
  },
  {
   "cell_type": "markdown",
   "id": "f161c6a8-56c3-403a-aa04-55089a243e76",
   "metadata": {},
   "source": [
    "元组和列表有一些相似，区别在于元组中的内容是不可以修改的。"
   ]
  },
  {
   "cell_type": "code",
   "execution_count": 32,
   "id": "b8ab7db8-01ff-4d3e-a905-b6f0b2210c40",
   "metadata": {},
   "outputs": [
    {
     "data": {
      "text/plain": [
       "('a', 'b', 'c')"
      ]
     },
     "execution_count": 32,
     "metadata": {},
     "output_type": "execute_result"
    }
   ],
   "source": [
    "tuple_1 = (\"a\", \"b\", \"c\")\n",
    "tuple_1"
   ]
  },
  {
   "cell_type": "code",
   "execution_count": 33,
   "id": "4bccccf2-9829-4525-bbc3-55b12771499f",
   "metadata": {},
   "outputs": [
    {
     "data": {
      "text/plain": [
       "tuple"
      ]
     },
     "execution_count": 33,
     "metadata": {},
     "output_type": "execute_result"
    }
   ],
   "source": [
    "type(tuple_1)"
   ]
  },
  {
   "cell_type": "code",
   "execution_count": 34,
   "id": "110ec296-88c3-4c03-be19-c2a1d7684204",
   "metadata": {},
   "outputs": [
    {
     "data": {
      "text/plain": [
       "'a'"
      ]
     },
     "execution_count": 34,
     "metadata": {},
     "output_type": "execute_result"
    }
   ],
   "source": [
    "tuple_1[0]"
   ]
  },
  {
   "cell_type": "code",
   "execution_count": 35,
   "id": "4d43d4aa-d082-4768-a059-1097ef77b283",
   "metadata": {},
   "outputs": [
    {
     "ename": "TypeError",
     "evalue": "'tuple' object does not support item assignment",
     "output_type": "error",
     "traceback": [
      "\u001b[1;31m---------------------------------------------------------------------------\u001b[0m",
      "\u001b[1;31mTypeError\u001b[0m                                 Traceback (most recent call last)",
      "Input \u001b[1;32mIn [35]\u001b[0m, in \u001b[0;36m<cell line: 1>\u001b[1;34m()\u001b[0m\n\u001b[1;32m----> 1\u001b[0m \u001b[43mtuple_1\u001b[49m\u001b[43m[\u001b[49m\u001b[38;5;241;43m0\u001b[39;49m\u001b[43m]\u001b[49m \u001b[38;5;241m=\u001b[39m \u001b[38;5;124m\"\u001b[39m\u001b[38;5;124mA\u001b[39m\u001b[38;5;124m\"\u001b[39m\n",
      "\u001b[1;31mTypeError\u001b[0m: 'tuple' object does not support item assignment"
     ]
    }
   ],
   "source": [
    "tuple_1[0] = \"A\"  # 这会导致报错"
   ]
  },
  {
   "cell_type": "code",
   "execution_count": 36,
   "id": "55420f06-f82c-44d3-b58d-243b3f8045ab",
   "metadata": {},
   "outputs": [
    {
     "data": {
      "text/plain": [
       "'a'"
      ]
     },
     "execution_count": 36,
     "metadata": {},
     "output_type": "execute_result"
    }
   ],
   "source": [
    "# 如果只有一个元素\n",
    "tuple_one_1 = (\"a\")\n",
    "tuple_one_1"
   ]
  },
  {
   "cell_type": "code",
   "execution_count": 37,
   "id": "9b102305-0a5f-4529-a608-df600b61a594",
   "metadata": {},
   "outputs": [
    {
     "data": {
      "text/plain": [
       "str"
      ]
     },
     "execution_count": 37,
     "metadata": {},
     "output_type": "execute_result"
    }
   ],
   "source": [
    "type(tuple_one_1)"
   ]
  },
  {
   "cell_type": "code",
   "execution_count": 38,
   "id": "2b7d911d-6516-418b-ba06-0535b13f4fb0",
   "metadata": {},
   "outputs": [
    {
     "data": {
      "text/plain": [
       "('a',)"
      ]
     },
     "execution_count": 38,
     "metadata": {},
     "output_type": "execute_result"
    }
   ],
   "source": [
    "# 如果只有一个元素，需要使用逗号\n",
    "tuple_one_2 = (\"a\", )\n",
    "tuple_one_2"
   ]
  },
  {
   "cell_type": "code",
   "execution_count": 39,
   "id": "0015c2ef-1ac5-44f6-99ad-7d0b79ec14bd",
   "metadata": {},
   "outputs": [
    {
     "data": {
      "text/plain": [
       "tuple"
      ]
     },
     "execution_count": 39,
     "metadata": {},
     "output_type": "execute_result"
    }
   ],
   "source": [
    "type(tuple_one_2)"
   ]
  },
  {
   "cell_type": "code",
   "execution_count": 40,
   "id": "36190ff8-fbdc-4caf-922e-61991bc0dec5",
   "metadata": {},
   "outputs": [
    {
     "name": "stdout",
     "output_type": "stream",
     "text": [
      "(12, 34.56, 'abc', 'xyz')\n"
     ]
    }
   ],
   "source": [
    "# 元组中的元素值是不允许修改的，但我们可以对元组进行连接组合，如下实例:\n",
    "\n",
    "tup1 = (12, 34.56)\n",
    "tup2 = ('abc', 'xyz')\n",
    " \n",
    "# 以下修改元组元素操作是非法的。\n",
    "# tup1[0] = 100\n",
    " \n",
    "# 创建一个新的元组\n",
    "tup3 = tup1 + tup2\n",
    "print (tup3)"
   ]
  },
  {
   "cell_type": "code",
   "execution_count": 42,
   "id": "62d5bfcc-190a-4ce8-8dfb-94ff62997a9d",
   "metadata": {},
   "outputs": [
    {
     "name": "stdout",
     "output_type": "stream",
     "text": [
      "('Google', 'Runoob', 1997, 2000)\n",
      "删除后的元组 tup : \n"
     ]
    },
    {
     "ename": "NameError",
     "evalue": "name 'tup' is not defined",
     "output_type": "error",
     "traceback": [
      "\u001b[1;31m---------------------------------------------------------------------------\u001b[0m",
      "\u001b[1;31mNameError\u001b[0m                                 Traceback (most recent call last)",
      "Input \u001b[1;32mIn [42]\u001b[0m, in \u001b[0;36m<cell line: 8>\u001b[1;34m()\u001b[0m\n\u001b[0;32m      6\u001b[0m \u001b[38;5;28;01mdel\u001b[39;00m tup\n\u001b[0;32m      7\u001b[0m \u001b[38;5;28mprint\u001b[39m (\u001b[38;5;124m\"\u001b[39m\u001b[38;5;124m删除后的元组 tup : \u001b[39m\u001b[38;5;124m\"\u001b[39m)\n\u001b[1;32m----> 8\u001b[0m \u001b[38;5;28mprint\u001b[39m (\u001b[43mtup\u001b[49m)\n",
      "\u001b[1;31mNameError\u001b[0m: name 'tup' is not defined"
     ]
    }
   ],
   "source": [
    "# 元组中的元素值是不允许删除的，但我们可以使用del语句来删除整个元组，如下实例:\n",
    "\n",
    "tup = ('Google', 'Runoob', 1997, 2000)\n",
    " \n",
    "print (tup)\n",
    "del tup\n",
    "print (\"删除后的元组 tup : \")\n",
    "print (tup)"
   ]
  },
  {
   "cell_type": "markdown",
   "id": "9959eba9-001b-4684-921e-1244fc5a043a",
   "metadata": {},
   "source": [
    "## Set"
   ]
  },
  {
   "cell_type": "markdown",
   "id": "ff244db3-4793-4970-ab6f-0197f153137d",
   "metadata": {},
   "source": [
    "集合（set）是一个无序的不重复元素序列。\n",
    "\n",
    "可以使用大括号 { } 或者 set() 函数创建集合，注意：创建一个空集合必须用 set() 而不是 { }，因为 { } 是用来创建一个空字典。"
   ]
  },
  {
   "cell_type": "code",
   "execution_count": 43,
   "id": "1f595fc2-1eac-40f6-b0d0-c545e529f978",
   "metadata": {},
   "outputs": [
    {
     "data": {
      "text/plain": [
       "{1, 2, 3, 4, 5, 6, 7, 8, 9, 10}"
      ]
     },
     "execution_count": 43,
     "metadata": {},
     "output_type": "execute_result"
    }
   ],
   "source": [
    "set_1 = {1, 2, 3, 4, 5, 6, 7, 8, 9, 10}\n",
    "set_1"
   ]
  },
  {
   "cell_type": "code",
   "execution_count": 44,
   "id": "3271d2b5-2dc3-4bd6-8f6f-da2641e58923",
   "metadata": {},
   "outputs": [
    {
     "data": {
      "text/plain": [
       "set"
      ]
     },
     "execution_count": 44,
     "metadata": {},
     "output_type": "execute_result"
    }
   ],
   "source": [
    "type(set_1)"
   ]
  },
  {
   "cell_type": "code",
   "execution_count": 45,
   "id": "d6b67ed2-39cd-4e7d-bb95-89bfcd769056",
   "metadata": {},
   "outputs": [
    {
     "data": {
      "text/plain": [
       "{1, 2, 3, 4, 5, 6, 7, 8, 9, 10, 11}"
      ]
     },
     "execution_count": 45,
     "metadata": {},
     "output_type": "execute_result"
    }
   ],
   "source": [
    "set_1.add(11)\n",
    "set_1"
   ]
  },
  {
   "cell_type": "code",
   "execution_count": 47,
   "id": "7d6e88b7-f9f4-4151-bc47-b33da445b869",
   "metadata": {},
   "outputs": [
    {
     "data": {
      "text/plain": [
       "{1, 2, 3, 4, 5, 6, 7, 8, 9, 10, 11}"
      ]
     },
     "execution_count": 47,
     "metadata": {},
     "output_type": "execute_result"
    }
   ],
   "source": [
    "# 重复元素会被自动去除\n",
    "set_1.add(11)\n",
    "set_1"
   ]
  },
  {
   "cell_type": "code",
   "execution_count": 48,
   "id": "1bff36de-c285-47dc-b129-4f95591a4f6d",
   "metadata": {},
   "outputs": [
    {
     "data": {
      "text/plain": [
       "{1, 2, 3, 4, 5, 6, 7, 8, 9, 10}"
      ]
     },
     "execution_count": 48,
     "metadata": {},
     "output_type": "execute_result"
    }
   ],
   "source": [
    "# 移除元素\n",
    "set_1.remove(11)\n",
    "set_1"
   ]
  },
  {
   "cell_type": "code",
   "execution_count": 49,
   "id": "d539dd4c-c707-40f0-a21e-9cfc5345bb2f",
   "metadata": {},
   "outputs": [
    {
     "ename": "KeyError",
     "evalue": "99",
     "output_type": "error",
     "traceback": [
      "\u001b[1;31m---------------------------------------------------------------------------\u001b[0m",
      "\u001b[1;31mKeyError\u001b[0m                                  Traceback (most recent call last)",
      "Input \u001b[1;32mIn [49]\u001b[0m, in \u001b[0;36m<cell line: 2>\u001b[1;34m()\u001b[0m\n\u001b[0;32m      1\u001b[0m \u001b[38;5;66;03m# 使用remove来移除元素，可能会导致错误\u001b[39;00m\n\u001b[1;32m----> 2\u001b[0m \u001b[43mset_1\u001b[49m\u001b[38;5;241;43m.\u001b[39;49m\u001b[43mremove\u001b[49m\u001b[43m(\u001b[49m\u001b[38;5;241;43m99\u001b[39;49m\u001b[43m)\u001b[49m\n",
      "\u001b[1;31mKeyError\u001b[0m: 99"
     ]
    }
   ],
   "source": [
    "# 使用remove来移除元素，可能会导致错误\n",
    "set_1.remove(99)"
   ]
  },
  {
   "cell_type": "code",
   "execution_count": 50,
   "id": "e70cbef1-6086-4f02-ae66-3fa0fc948187",
   "metadata": {},
   "outputs": [
    {
     "data": {
      "text/plain": [
       "{1, 2, 3, 4, 5, 6, 7, 8, 9, 10}"
      ]
     },
     "execution_count": 50,
     "metadata": {},
     "output_type": "execute_result"
    }
   ],
   "source": [
    "# 使用discard则不会导致错误\n",
    "set_1.discard(99)\n",
    "set_1"
   ]
  }
 ],
 "metadata": {
  "kernelspec": {
   "display_name": "Python 3 (ipykernel)",
   "language": "python",
   "name": "python3"
  },
  "language_info": {
   "codemirror_mode": {
    "name": "ipython",
    "version": 3
   },
   "file_extension": ".py",
   "mimetype": "text/x-python",
   "name": "python",
   "nbconvert_exporter": "python",
   "pygments_lexer": "ipython3",
   "version": "3.10.5"
  }
 },
 "nbformat": 4,
 "nbformat_minor": 5
}
