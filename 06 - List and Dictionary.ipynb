{
 "cells": [
  {
   "cell_type": "markdown",
   "id": "6cb0c396-f169-4f90-a349-89957eea84af",
   "metadata": {},
   "source": [
    "## Lists"
   ]
  },
  {
   "cell_type": "markdown",
   "id": "aafdca1d-146c-4447-ba2e-854ef4e45cb3",
   "metadata": {},
   "source": [
    "列表是最常用的Python数据类型，它可以作为一个方括号内的逗号分隔值出现。列表的数据项不需要具有相同的类型。"
   ]
  },
  {
   "cell_type": "code",
   "execution_count": 18,
   "id": "51d318dc-0a12-4328-9776-d3dd3cf5f295",
   "metadata": {},
   "outputs": [
    {
     "name": "stdin",
     "output_type": "stream",
     "text": [
      "please enter what you want here('enter Q to exit'): Q\n"
     ]
    }
   ],
   "source": [
    "list_1 = []\n",
    "\n",
    "while True:\n",
    "    name = input(\"please enter what you want here('enter Q to exit'):\")\n",
    "    if name == \"Q\":\n",
    "        break\n",
    "    else:\n",
    "        list_1.append(name)\n",
    "\n",
    "for list_element in list_1:\n",
    "    print(list_element)"
   ]
  },
  {
   "cell_type": "code",
   "execution_count": 19,
   "id": "5e1bea22-fd2f-46e2-9219-6532ab124cfa",
   "metadata": {},
   "outputs": [],
   "source": [
    "list_2 = [\"A\", \"B\", \"C\"]"
   ]
  },
  {
   "cell_type": "markdown",
   "id": "9df2cf4c-98e2-4d59-95c9-5490e537b125",
   "metadata": {},
   "source": [
    "list的序列是从0开始的，而不是1。"
   ]
  },
  {
   "cell_type": "code",
   "execution_count": 20,
   "id": "eed6182a-9fe7-457e-8e30-a68a0fd53e80",
   "metadata": {},
   "outputs": [
    {
     "data": {
      "text/plain": [
       "'A'"
      ]
     },
     "execution_count": 20,
     "metadata": {},
     "output_type": "execute_result"
    }
   ],
   "source": [
    "list_2[0]"
   ]
  },
  {
   "cell_type": "markdown",
   "id": "d2cf618e-10b7-4aa5-a831-f56455c76557",
   "metadata": {},
   "source": [
    "可以使用负数来从末尾往前："
   ]
  },
  {
   "cell_type": "code",
   "execution_count": 21,
   "id": "78424dd8-8847-4ae0-9cf5-cf75fbf9acae",
   "metadata": {},
   "outputs": [
    {
     "data": {
      "text/plain": [
       "'C'"
      ]
     },
     "execution_count": 21,
     "metadata": {},
     "output_type": "execute_result"
    }
   ],
   "source": [
    "list_2[-1]"
   ]
  },
  {
   "cell_type": "code",
   "execution_count": 22,
   "id": "3d5d3d99-6eb2-4a63-bb1e-56312adf8eb6",
   "metadata": {},
   "outputs": [
    {
     "data": {
      "text/plain": [
       "'B'"
      ]
     },
     "execution_count": 22,
     "metadata": {},
     "output_type": "execute_result"
    }
   ],
   "source": [
    "list_2[-2]"
   ]
  },
  {
   "cell_type": "markdown",
   "id": "ff365c95-7029-4975-b3f3-b0757b87d6d3",
   "metadata": {},
   "source": [
    "list常用的方法有："
   ]
  },
  {
   "cell_type": "code",
   "execution_count": 23,
   "id": "2f7729d3-37fd-47a2-afe0-104fceea2201",
   "metadata": {},
   "outputs": [],
   "source": [
    "list_mod = [1, 2, 3]"
   ]
  },
  {
   "cell_type": "code",
   "execution_count": 24,
   "id": "3ee035f1-9062-4ef7-84ee-510fe9faffae",
   "metadata": {},
   "outputs": [
    {
     "data": {
      "text/plain": [
       "[1, 2, 3, 4]"
      ]
     },
     "execution_count": 24,
     "metadata": {},
     "output_type": "execute_result"
    }
   ],
   "source": [
    "# append 为添加\n",
    "list_mod.append(4)\n",
    "list_mod"
   ]
  },
  {
   "cell_type": "code",
   "execution_count": 25,
   "id": "afed5219-1598-4452-812f-29dffeadaf96",
   "metadata": {},
   "outputs": [
    {
     "data": {
      "text/plain": [
       "[1, 2, 3]"
      ]
     },
     "execution_count": 25,
     "metadata": {},
     "output_type": "execute_result"
    }
   ],
   "source": [
    "# del 为删除\n",
    "del list_mod[-1]\n",
    "list_mod"
   ]
  },
  {
   "cell_type": "code",
   "execution_count": 26,
   "id": "2c41c27d-68f6-496c-ae7d-b902b5998c50",
   "metadata": {},
   "outputs": [
    {
     "data": {
      "text/plain": [
       "3"
      ]
     },
     "execution_count": 26,
     "metadata": {},
     "output_type": "execute_result"
    }
   ],
   "source": [
    "# len 为长度\n",
    "len(list_mod)"
   ]
  },
  {
   "cell_type": "code",
   "execution_count": 27,
   "id": "f2f77276-6b23-4ebc-a3e1-d829c004d003",
   "metadata": {},
   "outputs": [
    {
     "data": {
      "text/plain": [
       "[1, 2, 3, 4, 5, 6]"
      ]
     },
     "execution_count": 27,
     "metadata": {},
     "output_type": "execute_result"
    }
   ],
   "source": [
    "# + 为合并\n",
    "list_mod = list_mod + [4, 5, 6]\n",
    "list_mod"
   ]
  },
  {
   "cell_type": "code",
   "execution_count": 28,
   "id": "ce6e6cba-9ced-4b56-a65a-ab3bfeadba65",
   "metadata": {},
   "outputs": [
    {
     "data": {
      "text/plain": [
       "False"
      ]
     },
     "execution_count": 28,
     "metadata": {},
     "output_type": "execute_result"
    }
   ],
   "source": [
    "# in 为查询是否在其中\n",
    "9 in list_mod"
   ]
  },
  {
   "cell_type": "code",
   "execution_count": 29,
   "id": "fbb884b5-7bb1-4405-b209-016ef02f5f40",
   "metadata": {},
   "outputs": [
    {
     "data": {
      "text/plain": [
       "1"
      ]
     },
     "execution_count": 29,
     "metadata": {},
     "output_type": "execute_result"
    }
   ],
   "source": [
    "# min 为最小值\n",
    "min(list_mod)"
   ]
  },
  {
   "cell_type": "code",
   "execution_count": 30,
   "id": "1d49f413-b67d-4651-b754-32d01ea81304",
   "metadata": {},
   "outputs": [
    {
     "data": {
      "text/plain": [
       "6"
      ]
     },
     "execution_count": 30,
     "metadata": {},
     "output_type": "execute_result"
    }
   ],
   "source": [
    "# max 为最大值\n",
    "max(list_mod)"
   ]
  },
  {
   "cell_type": "code",
   "execution_count": 31,
   "id": "4914b584-e265-448a-9fd9-a53c2b673bfa",
   "metadata": {},
   "outputs": [
    {
     "data": {
      "text/plain": [
       "[1, 2, 3, 4, 5, 6, 7, 8, 9]"
      ]
     },
     "execution_count": 31,
     "metadata": {},
     "output_type": "execute_result"
    }
   ],
   "source": [
    "# extend 为对原先的列表添加新的列表的值\n",
    "list_extend = [7, 8, 9]\n",
    "list_mod.extend(list_extend)\n",
    "list_mod"
   ]
  },
  {
   "cell_type": "code",
   "execution_count": 33,
   "id": "95b5828f-374b-4c51-b2a9-3873af66b0f9",
   "metadata": {},
   "outputs": [
    {
     "data": {
      "text/plain": [
       "9"
      ]
     },
     "execution_count": 33,
     "metadata": {},
     "output_type": "execute_result"
    }
   ],
   "source": [
    "# pop 将某一个元素弹出并且返回\n",
    "ele_pop = list_mod.pop(-1)\n",
    "ele_pop"
   ]
  },
  {
   "cell_type": "code",
   "execution_count": 34,
   "id": "300a1f0e-bba2-4ce5-956d-248bd534101a",
   "metadata": {},
   "outputs": [
    {
     "data": {
      "text/plain": [
       "[1, 2, 3, 4, 5, 6, 7, 8]"
      ]
     },
     "execution_count": 34,
     "metadata": {},
     "output_type": "execute_result"
    }
   ],
   "source": [
    "list_mod"
   ]
  },
  {
   "cell_type": "code",
   "execution_count": 36,
   "id": "f06dda9f-d4bd-473b-87a3-d5b0c6e95c2e",
   "metadata": {},
   "outputs": [
    {
     "data": {
      "text/plain": [
       "[8, 7, 6, 5, 4, 3, 2, 1]"
      ]
     },
     "execution_count": 36,
     "metadata": {},
     "output_type": "execute_result"
    }
   ],
   "source": [
    "# sort 可以进行排序，提供reverse参数可以进行从大到小的排序\n",
    "list_mod.sort(reverse=True)\n",
    "list_mod"
   ]
  },
  {
   "cell_type": "code",
   "execution_count": 38,
   "id": "19e8e794-5ac1-4fd6-ac89-344506b547d1",
   "metadata": {},
   "outputs": [
    {
     "data": {
      "text/plain": [
       "[8, 7, 6, 5, 4, 3, 2, 1]"
      ]
     },
     "execution_count": 38,
     "metadata": {},
     "output_type": "execute_result"
    }
   ],
   "source": [
    "# 使用 : 可以进行切片\n",
    "list_mod[::]"
   ]
  },
  {
   "cell_type": "code",
   "execution_count": 39,
   "id": "18ae8bff-099e-46b1-8b69-16fcda492264",
   "metadata": {},
   "outputs": [
    {
     "data": {
      "text/plain": [
       "[8, 6, 4, 2]"
      ]
     },
     "execution_count": 39,
     "metadata": {},
     "output_type": "execute_result"
    }
   ],
   "source": [
    "# 步伐为2\n",
    "list_mod[::2]"
   ]
  },
  {
   "cell_type": "code",
   "execution_count": 40,
   "id": "89ab84b5-5db9-4861-8e5f-69705594d58d",
   "metadata": {},
   "outputs": [
    {
     "data": {
      "text/plain": [
       "[1, 2, 3, 4, 5, 6, 7, 8]"
      ]
     },
     "execution_count": 40,
     "metadata": {},
     "output_type": "execute_result"
    }
   ],
   "source": [
    "# 从后往前\n",
    "list_mod[::-1]"
   ]
  },
  {
   "cell_type": "code",
   "execution_count": 41,
   "id": "fb35ace6-de24-4a74-b765-5756f5d1e582",
   "metadata": {},
   "outputs": [
    {
     "data": {
      "text/plain": [
       "[5, 2, 3, 4, 1]"
      ]
     },
     "execution_count": 41,
     "metadata": {},
     "output_type": "execute_result"
    }
   ],
   "source": [
    "# 对调\n",
    "list_swap = [1, 2, 3, 4, 5]\n",
    "list_swap[0], list_swap[-1]  = list_swap[-1], list_swap[0]\n",
    "list_swap"
   ]
  },
  {
   "cell_type": "code",
   "execution_count": 43,
   "id": "7ef93ab4-ba7e-4a63-8c86-5705a4a7bea6",
   "metadata": {},
   "outputs": [
    {
     "data": {
      "text/plain": [
       "[0, 1, 2, 3, 4, 5, 6, 7, 8, 9]"
      ]
     },
     "execution_count": 43,
     "metadata": {},
     "output_type": "execute_result"
    }
   ],
   "source": [
    "# 我们可以使用表达式来进行生成\n",
    "list_express = [x for x in range(10)]\n",
    "list_express"
   ]
  },
  {
   "cell_type": "code",
   "execution_count": 44,
   "id": "99f98d3c-3a2d-4ef4-9f05-faabf01c8e2d",
   "metadata": {},
   "outputs": [
    {
     "name": "stdout",
     "output_type": "stream",
     "text": [
      "0\n",
      "1\n",
      "2\n",
      "3\n",
      "4\n",
      "5\n",
      "6\n",
      "7\n",
      "8\n",
      "9\n"
     ]
    }
   ],
   "source": [
    "# 如果要循环，建议使用 _ 符号\n",
    "for _ in list_express:\n",
    "    print(_)"
   ]
  },
  {
   "cell_type": "markdown",
   "id": "4da36d95-2636-4ce2-a072-6f3f8f164dc1",
   "metadata": {},
   "source": [
    "## Dictionary"
   ]
  }
 ],
 "metadata": {
  "kernelspec": {
   "display_name": "Python 3 (ipykernel)",
   "language": "python",
   "name": "python3"
  },
  "language_info": {
   "codemirror_mode": {
    "name": "ipython",
    "version": 3
   },
   "file_extension": ".py",
   "mimetype": "text/x-python",
   "name": "python",
   "nbconvert_exporter": "python",
   "pygments_lexer": "ipython3",
   "version": "3.10.5"
  }
 },
 "nbformat": 4,
 "nbformat_minor": 5
}
