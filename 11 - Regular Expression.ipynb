{
 "cells": [
  {
   "cell_type": "markdown",
   "id": "2df5e234-08e7-4fda-a89b-1771fdeb0072",
   "metadata": {},
   "source": [
    "## 正则表达式"
   ]
  },
  {
   "cell_type": "markdown",
   "id": "aff159d7-939d-4da1-b07d-24296c52b08a",
   "metadata": {},
   "source": [
    "正则表达式是一个特殊的字符序列，它能帮助你方便的检查一个字符串是否与某种模式匹配。"
   ]
  },
  {
   "cell_type": "code",
   "execution_count": 1,
   "id": "6860128d-a672-4592-ba5b-8879566d2360",
   "metadata": {},
   "outputs": [],
   "source": [
    "import re  # 导入re模块"
   ]
  },
  {
   "cell_type": "markdown",
   "id": "ad13de92-7019-4d25-ae5c-5f8e3f6ec473",
   "metadata": {},
   "source": [
    "re模块的语法如下所示：\n",
    "```\n",
    "re.match(pattern, string, flags=0)\n",
    "```"
   ]
  },
  {
   "cell_type": "code",
   "execution_count": 2,
   "id": "3d065c0b-0ed9-4b8b-9ecd-b6a82e980b78",
   "metadata": {},
   "outputs": [
    {
     "name": "stdout",
     "output_type": "stream",
     "text": [
      "18394200240\n",
      "15810717678\n",
      "15056126459\n",
      "14742864433\n",
      "14524901764\n"
     ]
    }
   ],
   "source": [
    "# 根据指定的正则表达式来生成随机字符串\n",
    "from xeger import Xeger\n",
    "\n",
    "_x = Xeger()\n",
    "for i in range(5):\n",
    "    # 手机号码格式\n",
    "    rule = r\"^(13[0-9]|14[5|7]|15[0|1|2|3|5|6|7|8|9]|18[0|1|2|3|5|6|7|8|9])\\d{8}$\"\n",
    "    phone_number_str = _x.xeger(rule)\n",
    "    print(phone_number_str)"
   ]
  }
 ],
 "metadata": {
  "kernelspec": {
   "display_name": "Python 3 (ipykernel)",
   "language": "python",
   "name": "python3"
  },
  "language_info": {
   "codemirror_mode": {
    "name": "ipython",
    "version": 3
   },
   "file_extension": ".py",
   "mimetype": "text/x-python",
   "name": "python",
   "nbconvert_exporter": "python",
   "pygments_lexer": "ipython3",
   "version": "3.10.5"
  }
 },
 "nbformat": 4,
 "nbformat_minor": 5
}
