{
 "cells": [
  {
   "cell_type": "markdown",
   "id": "36b88e7d-bc24-44f3-b236-a207170592d4",
   "metadata": {},
   "source": [
    "## 迭代器"
   ]
  },
  {
   "cell_type": "markdown",
   "id": "6db6aac7-6cc6-4501-bc3a-8fc39496ee7a",
   "metadata": {},
   "source": [
    "迭代器有两个方法：\n",
    "1. iter()\n",
    "2. next()\n",
    "可以创建迭代器的对象：字符串，列表或者元组对象。"
   ]
  },
  {
   "cell_type": "code",
   "execution_count": 12,
   "id": "5261d59c-05b9-4db2-ae7b-8c9e88d9ce1d",
   "metadata": {},
   "outputs": [
    {
     "data": {
      "text/plain": [
       "<list_iterator at 0x190cfc95840>"
      ]
     },
     "execution_count": 12,
     "metadata": {},
     "output_type": "execute_result"
    }
   ],
   "source": [
    "list = [1, 2, 3, 4, 5]\n",
    "it = iter(list)  # 创建迭代器\n",
    "it"
   ]
  },
  {
   "cell_type": "code",
   "execution_count": 13,
   "id": "6cf89452-756c-448b-a5a6-f305138f071a",
   "metadata": {},
   "outputs": [
    {
     "name": "stdout",
     "output_type": "stream",
     "text": [
      "1\n"
     ]
    }
   ],
   "source": [
    "print(next(it))  # 输出迭代器的下一个元素"
   ]
  },
  {
   "cell_type": "code",
   "execution_count": 14,
   "id": "0d80270f-9d1e-4e10-a998-aa47af08ade9",
   "metadata": {},
   "outputs": [
    {
     "name": "stdout",
     "output_type": "stream",
     "text": [
      "2\n"
     ]
    }
   ],
   "source": [
    "print(next(it)) "
   ]
  },
  {
   "cell_type": "code",
   "execution_count": 15,
   "id": "bd0fe40d-6679-416c-89e5-89c280712723",
   "metadata": {},
   "outputs": [
    {
     "name": "stdout",
     "output_type": "stream",
     "text": [
      "3\n"
     ]
    }
   ],
   "source": [
    "print(next(it)) "
   ]
  },
  {
   "cell_type": "code",
   "execution_count": 16,
   "id": "8ce2900a-a38c-4a58-a34c-9242460667b4",
   "metadata": {},
   "outputs": [
    {
     "name": "stdout",
     "output_type": "stream",
     "text": [
      "4\n"
     ]
    }
   ],
   "source": [
    "print(next(it)) "
   ]
  },
  {
   "cell_type": "code",
   "execution_count": 17,
   "id": "3bfbd1aa-1333-46a1-b947-7a7ac85ac993",
   "metadata": {},
   "outputs": [
    {
     "name": "stdout",
     "output_type": "stream",
     "text": [
      "5\n"
     ]
    }
   ],
   "source": [
    "print(next(it)) "
   ]
  },
  {
   "cell_type": "code",
   "execution_count": 18,
   "id": "2b82fa4e-5ce5-4fff-ba61-5492c1b261c9",
   "metadata": {},
   "outputs": [
    {
     "ename": "StopIteration",
     "evalue": "",
     "output_type": "error",
     "traceback": [
      "\u001b[1;31m---------------------------------------------------------------------------\u001b[0m",
      "\u001b[1;31mStopIteration\u001b[0m                             Traceback (most recent call last)",
      "Input \u001b[1;32mIn [18]\u001b[0m, in \u001b[0;36m<cell line: 1>\u001b[1;34m()\u001b[0m\n\u001b[1;32m----> 1\u001b[0m \u001b[38;5;28mprint\u001b[39m(\u001b[38;5;28;43mnext\u001b[39;49m\u001b[43m(\u001b[49m\u001b[43mit\u001b[49m\u001b[43m)\u001b[49m)\n",
      "\u001b[1;31mStopIteration\u001b[0m: "
     ]
    }
   ],
   "source": [
    "print(next(it))   # 超出"
   ]
  },
  {
   "cell_type": "code",
   "execution_count": 19,
   "id": "a95609c2-6d6d-477a-978f-ffaa17fcb6e2",
   "metadata": {},
   "outputs": [
    {
     "name": "stdout",
     "output_type": "stream",
     "text": [
      "1\n",
      "2\n",
      "3\n",
      "4\n"
     ]
    }
   ],
   "source": [
    "# 抛出异常\n",
    "import sys         # 引入 sys 模块\n",
    " \n",
    "list=[1,2,3,4]\n",
    "it = iter(list)    # 创建迭代器对象\n",
    " \n",
    "while True:\n",
    "    try:\n",
    "        print (next(it))\n",
    "    except StopIteration:\n",
    "        break"
   ]
  }
 ],
 "metadata": {
  "kernelspec": {
   "display_name": "Python 3 (ipykernel)",
   "language": "python",
   "name": "python3"
  },
  "language_info": {
   "codemirror_mode": {
    "name": "ipython",
    "version": 3
   },
   "file_extension": ".py",
   "mimetype": "text/x-python",
   "name": "python",
   "nbconvert_exporter": "python",
   "pygments_lexer": "ipython3",
   "version": "3.10.5"
  }
 },
 "nbformat": 4,
 "nbformat_minor": 5
}
